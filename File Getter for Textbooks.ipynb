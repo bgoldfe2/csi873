{
 "cells": [
  {
   "cell_type": "code",
   "execution_count": 1,
   "metadata": {
    "collapsed": true
   },
   "outputs": [],
   "source": [
    "import os,sys"
   ]
  },
  {
   "cell_type": "code",
   "execution_count": 2,
   "metadata": {
    "collapsed": true
   },
   "outputs": [],
   "source": [
    "os.chdir('D:\\\\Users\\\\bgoldfeder2\\\\dev')"
   ]
  },
  {
   "cell_type": "code",
   "execution_count": 3,
   "metadata": {
    "collapsed": true
   },
   "outputs": [],
   "source": [
    "sys.path.append('D:\\\\Users\\\\bgoldfeder2\\\\dev')"
   ]
  },
  {
   "cell_type": "code",
   "execution_count": 51,
   "metadata": {
    "collapsed": false
   },
   "outputs": [],
   "source": [
    "from bs4 import BeautifulSoup\n",
    "from urllib.request import urlopen\n",
    "from urllib.parse import urlparse\n",
    "from urllib.parse import urljoin\n",
    "import urllib"
   ]
  },
  {
   "cell_type": "code",
   "execution_count": 52,
   "metadata": {
    "collapsed": false
   },
   "outputs": [],
   "source": [
    "URL = \"http://web.stanford.edu/~hastie/ElemStatLearn/data.html\" #had to find in source of menu frame\n",
    "soup = BeautifulSoup(urlopen(URL), \"lxml\")\n",
    "baseURL = \"http://web.stanford.edu/~hastie/ElemStatLearn/\""
   ]
  },
  {
   "cell_type": "code",
   "execution_count": 67,
   "metadata": {
    "collapsed": false
   },
   "outputs": [
    {
     "name": "stdout",
     "output_type": "stream",
     "text": [
      "wrote fileneame 14cancer.info\n",
      "wrote fileneame 14cancer.xtrain\n",
      "wrote fileneame 14cancer.ytrain\n",
      "wrote fileneame 14cancer.xtest\n",
      "wrote fileneame 14cancer.ytest\n",
      "Error code is 404\n",
      "wrote fileneame bone.info.txt\n",
      "wrote fileneame bone.data\n",
      "wrote fileneame countries.info.txt\n",
      "wrote fileneame countries.data\n",
      "wrote fileneame galaxy.info.txt\n",
      "wrote fileneame galaxy.data\n",
      "wrote fileneame LAozone.info.txt\n",
      "wrote fileneame LAozone.data\n",
      "wrote fileneame marketing.info.txt\n",
      "wrote fileneame marketing.data\n",
      "wrote fileneame mixture.example.info.txt\n",
      "wrote fileneame ESL.mixture.rda\n",
      "wrote fileneame nci.info.txt\n",
      "wrote fileneame nci.data\n",
      "wrote fileneame ozone.info.txt\n",
      "wrote fileneame ozone.data\n",
      "wrote fileneame phoneme.info.txt\n",
      "wrote fileneame phoneme.data\n",
      "wrote fileneame prostate.info.txt\n",
      "wrote fileneame prostate.data\n",
      "wrote fileneame sachs.info.txt\n",
      "wrote fileneame sachs.data\n",
      "wrote fileneame sachs.covmatrix\n",
      "wrote fileneame radsens.info.txt\n",
      "wrote fileneame radsens.x\n",
      "wrote fileneame radsens.y\n",
      "wrote fileneame khan.info.txt\n",
      "wrote fileneame khan.xtrain\n",
      "wrote fileneame khan.ytrain\n",
      "wrote fileneame khan.xtest\n",
      "wrote fileneame khan.ytest\n",
      "wrote fileneame signatures.txt\n",
      "wrote fileneame signatureData.csv\n",
      "Error code is 404\n",
      "wrote fileneame orange\n",
      "wrote fileneame SAheart.info.txt\n",
      "wrote fileneame SAheart.data\n",
      "wrote fileneame spam.info.txt\n",
      "wrote fileneame spam.data\n",
      "wrote fileneame spam.traintest\n",
      "wrote fileneame unknown0.data\n",
      "wrote fileneame vowel.info.txt\n",
      "wrote fileneame vowel.train\n",
      "wrote fileneame vowel.test\n",
      "wrote fileneame waveform.info.txt\n",
      "wrote fileneame waveform.train\n",
      "wrote fileneame waveform.test\n",
      "wrote fileneame waveform.S\n",
      "wrote fileneame zip.info.txt\n",
      "wrote fileneame zip.train.gz\n",
      "wrote fileneame zip.test.gz\n",
      "wrote fileneame zip.digits\n"
     ]
    }
   ],
   "source": [
    "links = soup.find_all('a')\n",
    "cnt = 0 \n",
    "for link in links: # Processing each link and getting the url value\n",
    "    url = urljoin(baseURL,link.get( 'href' )) \n",
    "    #print(link)\n",
    "    #print(link.get('href'))\n",
    "    #print(url)\n",
    "    \n",
    "    try:    \n",
    "        res = urlopen( url )\n",
    "        #header = res.info()   \n",
    "        data = res.read()\n",
    "       \n",
    "        # It is a file\n",
    "        filename =  os.path.basename( url ) \n",
    "        #print(\"filename is:\",filename)\n",
    "        if filename == '':\n",
    "            filename=\"unknown\"+str(cnt)+\".data\"\n",
    "            cnt += 1\n",
    "        with open( filename, \"wb\" ) as code :\n",
    "            code.write( data )\n",
    "        print(\"wrote fileneame\",filename)\n",
    "    except urllib.error.HTTPError as e:\n",
    "        # Need to check its an 404, 503, 500, 403 etc.\n",
    "        \n",
    "        print(\"Error code is\",e.code)\n",
    "        if e.code == 404:\n",
    "            continue\n",
    "        #status_code = e.response.status_code\n",
    "        \n",
    "    except:\n",
    "        print (\"Unexpected error:\", sys.exc_info()[0])\n",
    "        raise\n",
    "        "
   ]
  },
  {
   "cell_type": "code",
   "execution_count": 24,
   "metadata": {
    "collapsed": false
   },
   "outputs": [],
   "source": [
    "\n",
    "absurl = 'http://web.stanford.edu/~hastie/ElemStatLearn/datasets/'\n",
    "\n",
    "page = urlopen(absurl)\n",
    "html = page.read()\n",
    "path = urlparse(absurl).path\n",
    "name = os.getcwd()\n",
    "with open(\"foo.html\", 'wb') as f:\n",
    "    f.write(html)"
   ]
  },
  {
   "cell_type": "code",
   "execution_count": 22,
   "metadata": {
    "collapsed": false
   },
   "outputs": [
    {
     "name": "stdout",
     "output_type": "stream",
     "text": [
      "\n"
     ]
    }
   ],
   "source": []
  },
  {
   "cell_type": "code",
   "execution_count": null,
   "metadata": {
    "collapsed": true
   },
   "outputs": [],
   "source": []
  }
 ],
 "metadata": {
  "kernelspec": {
   "display_name": "Python 3",
   "language": "python",
   "name": "python3"
  },
  "language_info": {
   "codemirror_mode": {
    "name": "ipython",
    "version": 3
   },
   "file_extension": ".py",
   "mimetype": "text/x-python",
   "name": "python",
   "nbconvert_exporter": "python",
   "pygments_lexer": "ipython3",
   "version": "3.6.0"
  }
 },
 "nbformat": 4,
 "nbformat_minor": 2
}
